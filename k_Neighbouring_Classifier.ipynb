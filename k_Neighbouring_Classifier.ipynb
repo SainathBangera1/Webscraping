{
 "cells": [
  {
   "cell_type": "code",
   "execution_count": 1,
   "metadata": {},
   "outputs": [],
   "source": [
    "import pandas as pd"
   ]
  },
  {
   "cell_type": "code",
   "execution_count": 88,
   "metadata": {},
   "outputs": [],
   "source": [
    "data = pd.read_csv('data_2nd_Digit.csv',parse_dates=True,index_col=0)"
   ]
  },
  {
   "cell_type": "code",
   "execution_count": 89,
   "metadata": {},
   "outputs": [
    {
     "data": {
      "text/html": [
       "<div>\n",
       "<style scoped>\n",
       "    .dataframe tbody tr th:only-of-type {\n",
       "        vertical-align: middle;\n",
       "    }\n",
       "\n",
       "    .dataframe tbody tr th {\n",
       "        vertical-align: top;\n",
       "    }\n",
       "\n",
       "    .dataframe thead th {\n",
       "        text-align: right;\n",
       "    }\n",
       "</style>\n",
       "<table border=\"1\" class=\"dataframe\">\n",
       "  <thead>\n",
       "    <tr style=\"text-align: right;\">\n",
       "      <th></th>\n",
       "      <th>Day</th>\n",
       "      <th>Month</th>\n",
       "      <th>Year</th>\n",
       "      <th>data_2nd_Digit</th>\n",
       "      <th>OE</th>\n",
       "      <th>T2M</th>\n",
       "      <th>T2MDEW</th>\n",
       "      <th>T2MWET</th>\n",
       "      <th>TS</th>\n",
       "      <th>T2M_RANGE</th>\n",
       "      <th>T2M_MAX</th>\n",
       "      <th>T2M_MIN</th>\n",
       "      <th>PRECTOTCORR</th>\n",
       "    </tr>\n",
       "    <tr>\n",
       "      <th>Date</th>\n",
       "      <th></th>\n",
       "      <th></th>\n",
       "      <th></th>\n",
       "      <th></th>\n",
       "      <th></th>\n",
       "      <th></th>\n",
       "      <th></th>\n",
       "      <th></th>\n",
       "      <th></th>\n",
       "      <th></th>\n",
       "      <th></th>\n",
       "      <th></th>\n",
       "      <th></th>\n",
       "    </tr>\n",
       "  </thead>\n",
       "  <tbody>\n",
       "    <tr>\n",
       "      <th>1997-12-03</th>\n",
       "      <td>3</td>\n",
       "      <td>12</td>\n",
       "      <td>1997</td>\n",
       "      <td>20</td>\n",
       "      <td>Even</td>\n",
       "      <td>8.48</td>\n",
       "      <td>4.61</td>\n",
       "      <td>6.55</td>\n",
       "      <td>7.95</td>\n",
       "      <td>5.73</td>\n",
       "      <td>11.27</td>\n",
       "      <td>5.54</td>\n",
       "      <td>0.93</td>\n",
       "    </tr>\n",
       "    <tr>\n",
       "      <th>1997-12-06</th>\n",
       "      <td>6</td>\n",
       "      <td>12</td>\n",
       "      <td>1997</td>\n",
       "      <td>2</td>\n",
       "      <td>Even</td>\n",
       "      <td>7.45</td>\n",
       "      <td>2.40</td>\n",
       "      <td>4.93</td>\n",
       "      <td>7.15</td>\n",
       "      <td>12.12</td>\n",
       "      <td>13.76</td>\n",
       "      <td>1.64</td>\n",
       "      <td>0.04</td>\n",
       "    </tr>\n",
       "    <tr>\n",
       "      <th>1997-12-10</th>\n",
       "      <td>10</td>\n",
       "      <td>12</td>\n",
       "      <td>1997</td>\n",
       "      <td>1</td>\n",
       "      <td>Even</td>\n",
       "      <td>8.84</td>\n",
       "      <td>5.39</td>\n",
       "      <td>7.12</td>\n",
       "      <td>7.52</td>\n",
       "      <td>10.19</td>\n",
       "      <td>14.52</td>\n",
       "      <td>4.33</td>\n",
       "      <td>0.57</td>\n",
       "    </tr>\n",
       "    <tr>\n",
       "      <th>1997-12-13</th>\n",
       "      <td>13</td>\n",
       "      <td>12</td>\n",
       "      <td>1997</td>\n",
       "      <td>5</td>\n",
       "      <td>Even</td>\n",
       "      <td>8.65</td>\n",
       "      <td>3.40</td>\n",
       "      <td>6.02</td>\n",
       "      <td>7.65</td>\n",
       "      <td>12.05</td>\n",
       "      <td>16.51</td>\n",
       "      <td>4.46</td>\n",
       "      <td>0.00</td>\n",
       "    </tr>\n",
       "    <tr>\n",
       "      <th>1997-12-17</th>\n",
       "      <td>17</td>\n",
       "      <td>12</td>\n",
       "      <td>1997</td>\n",
       "      <td>10</td>\n",
       "      <td>Odd</td>\n",
       "      <td>9.91</td>\n",
       "      <td>6.57</td>\n",
       "      <td>8.24</td>\n",
       "      <td>9.32</td>\n",
       "      <td>9.53</td>\n",
       "      <td>14.90</td>\n",
       "      <td>5.37</td>\n",
       "      <td>0.16</td>\n",
       "    </tr>\n",
       "  </tbody>\n",
       "</table>\n",
       "</div>"
      ],
      "text/plain": [
       "            Day  Month  Year  data_2nd_Digit    OE   T2M  T2MDEW  T2MWET  \\\n",
       "Date                                                                       \n",
       "1997-12-03    3     12  1997              20  Even  8.48    4.61    6.55   \n",
       "1997-12-06    6     12  1997               2  Even  7.45    2.40    4.93   \n",
       "1997-12-10   10     12  1997               1  Even  8.84    5.39    7.12   \n",
       "1997-12-13   13     12  1997               5  Even  8.65    3.40    6.02   \n",
       "1997-12-17   17     12  1997              10   Odd  9.91    6.57    8.24   \n",
       "\n",
       "              TS  T2M_RANGE  T2M_MAX  T2M_MIN  PRECTOTCORR  \n",
       "Date                                                        \n",
       "1997-12-03  7.95       5.73    11.27     5.54         0.93  \n",
       "1997-12-06  7.15      12.12    13.76     1.64         0.04  \n",
       "1997-12-10  7.52      10.19    14.52     4.33         0.57  \n",
       "1997-12-13  7.65      12.05    16.51     4.46         0.00  \n",
       "1997-12-17  9.32       9.53    14.90     5.37         0.16  "
      ]
     },
     "execution_count": 89,
     "metadata": {},
     "output_type": "execute_result"
    }
   ],
   "source": [
    "data.head()"
   ]
  },
  {
   "cell_type": "code",
   "execution_count": 95,
   "metadata": {},
   "outputs": [],
   "source": [
    "import numpy as np\n",
    "from sklearn.model_selection import train_test_split\n",
    "from sklearn.neighbors import KNeighborsClassifier\n",
    "from sklearn.metrics import accuracy_score"
   ]
  },
  {
   "cell_type": "code",
   "execution_count": 96,
   "metadata": {},
   "outputs": [],
   "source": [
    "x = data[['data_2nd_Digit','PRECTOTCORR']]\n",
    "y = data['OE']\n",
    "y = np.array([0 if value=='Odd' else 1 for value in y])"
   ]
  },
  {
   "cell_type": "code",
   "execution_count": 97,
   "metadata": {},
   "outputs": [],
   "source": [
    "x_train, x_test, y_train, y_test = train_test_split(x,y,random_state=42)"
   ]
  },
  {
   "cell_type": "code",
   "execution_count": 98,
   "metadata": {},
   "outputs": [
    {
     "data": {
      "text/plain": [
       "0.48105625717566014"
      ]
     },
     "execution_count": 98,
     "metadata": {},
     "output_type": "execute_result"
    }
   ],
   "source": [
    "neigh = KNeighborsClassifier()\n",
    "neigh.fit(x_train,y_train)\n",
    "y_pred = neigh.predict(x_test)\n",
    "accuracy_score(y_test,y_pred)"
   ]
  }
 ],
 "metadata": {
  "kernelspec": {
   "display_name": "Python 3",
   "language": "python",
   "name": "python3"
  },
  "language_info": {
   "codemirror_mode": {
    "name": "ipython",
    "version": 3
   },
   "file_extension": ".py",
   "mimetype": "text/x-python",
   "name": "python",
   "nbconvert_exporter": "python",
   "pygments_lexer": "ipython3",
   "version": "3.7.0"
  }
 },
 "nbformat": 4,
 "nbformat_minor": 2
}
